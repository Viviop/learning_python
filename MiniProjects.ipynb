{
  "nbformat": 4,
  "nbformat_minor": 0,
  "metadata": {
    "colab": {
      "provenance": [],
      "authorship_tag": "ABX9TyPB98C3p5pUUss+ej6+7/VF",
      "include_colab_link": true
    },
    "kernelspec": {
      "name": "python3",
      "display_name": "Python 3"
    },
    "language_info": {
      "name": "python"
    }
  },
  "cells": [
    {
      "cell_type": "markdown",
      "metadata": {
        "id": "view-in-github",
        "colab_type": "text"
      },
      "source": [
        "<a href=\"https://colab.research.google.com/github/Viviop/learning_python/blob/main/MiniProjects.ipynb\" target=\"_parent\"><img src=\"https://colab.research.google.com/assets/colab-badge.svg\" alt=\"Open In Colab\"/></a>"
      ]
    },
    {
      "cell_type": "markdown",
      "source": [
        "#Computing pay for a employee"
      ],
      "metadata": {
        "id": "hR0RqA1aVo40"
      }
    },
    {
      "cell_type": "code",
      "execution_count": null,
      "metadata": {
        "id": "vFFNT9c_VGsQ"
      },
      "outputs": [],
      "source": [
        "def computepay(h, r):\n",
        "    if(h<=40):\n",
        "        return h*r\n",
        "    elif(h>40):\n",
        "        return (40*r)+(h-40)*1.5*r\n",
        "\n",
        "hrs = float(input(\"Enter Hours:\"))\n",
        "rate= float(input(\"Enter Rate:\"))\n",
        "p = computepay(hrs,rate)\n",
        "print(\"Pay\", p)"
      ]
    },
    {
      "cell_type": "markdown",
      "source": [
        "#Armstrong Number\n",
        "\n",
        "To find if a number is Armstrong or not"
      ],
      "metadata": {
        "id": "w1sff8mHV1z9"
      }
    },
    {
      "cell_type": "code",
      "source": [
        "def ArmStrong():\n",
        "  num=int(input(\"Enter Number \"))\n",
        "  temp=num\n",
        "  sum=0\n",
        "  while(num>0):\n",
        "    d=int(num%10)\n",
        "    sum=sum+d**3\n",
        "    num=int(num/10)\n",
        "  if(sum==temp):\n",
        "    print(temp, \"is an Armstrong number\")\n",
        "  else:\n",
        "    print(temp, \"is not an Armstrong number\")\n",
        "\n",
        "ArmStrong()"
      ],
      "metadata": {
        "id": "gLbO45IlV1ZD"
      },
      "execution_count": null,
      "outputs": []
    }
  ]
}