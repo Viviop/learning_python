{
  "nbformat": 4,
  "nbformat_minor": 0,
  "metadata": {
    "colab": {
      "provenance": [],
      "authorship_tag": "ABX9TyMWtA/UW71QE+yJ1mWICK2/",
      "include_colab_link": true
    },
    "kernelspec": {
      "name": "python3",
      "display_name": "Python 3"
    },
    "language_info": {
      "name": "python"
    }
  },
  "cells": [
    {
      "cell_type": "markdown",
      "metadata": {
        "id": "view-in-github",
        "colab_type": "text"
      },
      "source": [
        "<a href=\"https://colab.research.google.com/github/Viviop/learning_python/blob/main/MiniProjects.ipynb\" target=\"_parent\"><img src=\"https://colab.research.google.com/assets/colab-badge.svg\" alt=\"Open In Colab\"/></a>"
      ]
    },
    {
      "cell_type": "markdown",
      "source": [
        "#Computing pay for a employee"
      ],
      "metadata": {
        "id": "hR0RqA1aVo40"
      }
    },
    {
      "cell_type": "code",
      "execution_count": null,
      "metadata": {
        "id": "vFFNT9c_VGsQ"
      },
      "outputs": [],
      "source": [
        "def computepay(h, r):\n",
        "    if(h<=40):\n",
        "        return h*r\n",
        "    elif(h>40):\n",
        "        return (40*r)+(h-40)*1.5*r\n",
        "\n",
        "hrs = float(input(\"Enter Hours:\"))\n",
        "rate= float(input(\"Enter Rate:\"))\n",
        "p = computepay(hrs,rate)\n",
        "print(\"Pay\", p)"
      ]
    },
    {
      "cell_type": "markdown",
      "source": [
        "#Armstrong Number\n",
        "\n",
        "To find if a number is Armstrong or not"
      ],
      "metadata": {
        "id": "w1sff8mHV1z9"
      }
    },
    {
      "cell_type": "code",
      "source": [
        "def ArmStrong():\n",
        "  num=int(input(\"Enter Number \"))\n",
        "  temp=num\n",
        "  sum=0\n",
        "  while(num>0):\n",
        "    d=int(num%10)\n",
        "    sum=sum+d**3\n",
        "    num=int(num/10)\n",
        "  if(sum==temp):\n",
        "    print(temp, \"is an Armstrong number\")\n",
        "  else:\n",
        "    print(temp, \"is not an Armstrong number\")\n",
        "\n",
        "ArmStrong()"
      ],
      "metadata": {
        "id": "gLbO45IlV1ZD"
      },
      "execution_count": null,
      "outputs": []
    },
    {
      "cell_type": "markdown",
      "source": [
        "#Finding average and total of numbers"
      ],
      "metadata": {
        "id": "EL9jSeYTdf3a"
      }
    },
    {
      "cell_type": "code",
      "source": [
        "num=0\n",
        "tot=0.0\n",
        "while True:\n",
        "    sval = input(\"Enter a number: \")\n",
        "    if sval=='done':\n",
        "        break\n",
        "    try:\n",
        "        sval=float(sval)\n",
        "    except:\n",
        "       print('Invalid input')\n",
        "       continue\n",
        "    num=num+1\n",
        "    tot=tot+sval\n",
        "print(tot, num, tot/num)"
      ],
      "metadata": {
        "id": "BUJ7TL1xdpVJ"
      },
      "execution_count": null,
      "outputs": []
    },
    {
      "cell_type": "markdown",
      "source": [
        "#Fibonaci series\n",
        "\n",
        "upto n terms\n"
      ],
      "metadata": {
        "id": "XOumG3d-dq6n"
      }
    },
    {
      "cell_type": "code",
      "source": [
        "def fibonaci():\n",
        "  n=int(input(\"Series Upto\"))\n",
        "  a=0\n",
        "  b=1\n",
        "  c=1\n",
        "  print(a,b,end=\" \")\n",
        "  for i in range(n-2):\n",
        "    print(c,end=\" \")\n",
        "    a=b\n",
        "    b=c\n",
        "    c=a+b\n",
        "fibonaci()"
      ],
      "metadata": {
        "id": "Cd1hb_mIdrF_"
      },
      "execution_count": null,
      "outputs": []
    },
    {
      "cell_type": "markdown",
      "source": [
        "#Finding maximum and minimum number"
      ],
      "metadata": {
        "id": "ZDVXU8wWd6AD"
      }
    },
    {
      "cell_type": "code",
      "source": [
        "largest = -1\n",
        "smallest = None\n",
        "while True:\n",
        "    num =input(\"Enter a number: \")\n",
        "    if num==\"done\":\n",
        "       break\n",
        "    try:\n",
        "     num=int(num)\n",
        "     if num>largest :\n",
        "       largest=num\n",
        "     if smallest is None:\n",
        "        smallest=num\n",
        "     elif smallest>num:\n",
        "        smallest=num\n",
        "    except:\n",
        "       print(\"Invalid Input\")\n",
        "       continue\n",
        "print(\"Maximum is\", largest)\n",
        "print(\"Minimum is\", smallest)"
      ],
      "metadata": {
        "id": "l3lEKD6Rd6IL"
      },
      "execution_count": null,
      "outputs": []
    },
    {
      "cell_type": "markdown",
      "source": [
        "#Palindrome Number\n",
        "\n",
        "check if a number is reverse of itself"
      ],
      "metadata": {
        "id": "_DT-wgFKeF6N"
      }
    },
    {
      "cell_type": "code",
      "source": [
        "def Palindrome():\n",
        "    num=int(input(\"Enter Number \"))\n",
        "    temp=num\n",
        "    sum=0\n",
        "    while(num>0):\n",
        "        d=num%10\n",
        "        sum=sum*10+d\n",
        "        num=num//10\n",
        "    if(sum==temp):\n",
        "        print(temp, \"is a Palindrome Number\")\n",
        "    else:\n",
        "        print(temp,\" is not a Palindrome Number\")\n",
        "Palindrome()"
      ],
      "metadata": {
        "colab": {
          "base_uri": "https://localhost:8080/"
        },
        "id": "b-0Zq-fUeGAR",
        "outputId": "a6bb7ccd-af6b-4ffc-af59-b00ab583022d"
      },
      "execution_count": null,
      "outputs": [
        {
          "output_type": "stream",
          "name": "stdout",
          "text": [
            "Enter Number 121\n",
            "121 is a Palindrome Number\n"
          ]
        }
      ]
    },
    {
      "cell_type": "markdown",
      "source": [
        "#Assigning Grade to student based on score\n"
      ],
      "metadata": {
        "id": "l66_C1VSes4C"
      }
    },
    {
      "cell_type": "code",
      "source": [
        "try:\n",
        " score = float(input(\"Enter Score: \"))\n",
        "except:\n",
        " print(\"Enter Numeric Value\")\n",
        " quit()\n",
        "if(1>=score>=0.9):\n",
        " print(\"A\")\n",
        "elif(0.9>score>=0.8):\n",
        " print(\"B\")\n",
        "elif(0.8>score>=0.7):\n",
        " print(\"C\")\n",
        "elif(0.7>score>=0.6):\n",
        " print(\"D\")\n",
        "elif(0<score<0.6):\n",
        " print(\"F\")\n",
        "else:\n",
        "  print(\"Enter Valid Score between 0 and 1\")"
      ],
      "metadata": {
        "id": "1VvJfzz6es_9"
      },
      "execution_count": null,
      "outputs": []
    },
    {
      "cell_type": "markdown",
      "source": [
        "#Checking if a year is leap year or not"
      ],
      "metadata": {
        "id": "4Ni5ahMse2gR"
      }
    },
    {
      "cell_type": "code",
      "source": [
        "def Year_Check():\n",
        "  year=int(input(\"Enter Year\"))\n",
        "  if(year%4 == 0):\n",
        "    print(year,\" is a leap year\")\n",
        "  else:\n",
        "   print(year, \"is not a leap year\")\n",
        "\n",
        "Year_Check()"
      ],
      "metadata": {
        "id": "jzYrl7NPe2m7"
      },
      "execution_count": null,
      "outputs": []
    }
  ]
}