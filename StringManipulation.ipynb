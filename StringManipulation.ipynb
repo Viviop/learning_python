{
  "cells": [
    {
      "cell_type": "markdown",
      "metadata": {
        "id": "view-in-github",
        "colab_type": "text"
      },
      "source": [
        "<a href=\"https://colab.research.google.com/github/Viviop/learning_python/blob/main/StringManipulation.ipynb\" target=\"_parent\"><img src=\"https://colab.research.google.com/assets/colab-badge.svg\" alt=\"Open In Colab\"/></a>"
      ]
    },
    {
      "cell_type": "code",
      "execution_count": null,
      "metadata": {
        "colab": {
          "base_uri": "https://localhost:8080/"
        },
        "id": "A2Ki6QYJdIWH",
        "outputId": "f2717397-8dc4-4214-c05d-41f4fde82a28"
      },
      "outputs": [
        {
          "output_type": "stream",
          "name": "stdout",
          "text": [
            " *   *   *   *   *   *   *  \n",
            "   *   *   *   *   *   *  \n",
            "     *   *   *   *   *  \n",
            "       *   *   *   *  \n",
            "         *   *   *  \n",
            "           *   *  \n",
            "             *  \n"
          ]
        }
      ],
      "source": [
        "for i in range(7):\n",
        " for j in range(i):\n",
        "   print(\" \",end=\" \")\n",
        " for x in range(7-i):\n",
        "  print(\" * \",end=\" \")\n",
        " print()"
      ]
    },
    {
      "cell_type": "code",
      "source": [
        "for i in range(7):\n",
        " for j in range(7-i):\n",
        "   print(\" \",end=\" \")\n",
        " for x in range(i):\n",
        "  print(\" * \",end=\" \")\n",
        " print()"
      ],
      "metadata": {
        "colab": {
          "base_uri": "https://localhost:8080/"
        },
        "id": "6fFLh6M5QvQ4",
        "outputId": "f8dec23f-f875-4c57-ad42-a7a26be6267e"
      },
      "execution_count": null,
      "outputs": [
        {
          "output_type": "stream",
          "name": "stdout",
          "text": [
            "              \n",
            "             *  \n",
            "           *   *  \n",
            "         *   *   *  \n",
            "       *   *   *   *  \n",
            "     *   *   *   *   *  \n",
            "   *   *   *   *   *   *  \n"
          ]
        }
      ]
    },
    {
      "cell_type": "code",
      "source": [
        "for i in range(5):\n",
        "  for j in range(5-i):\n",
        "    print(\" \",end=\" \")\n",
        "  for x in range(i):\n",
        "    print(\" * \",end=\" \")\n",
        "  print()\n",
        "for i in range(4):\n",
        "  for j in range(2):\n",
        "    print(\"  \",end=\" \")\n",
        "    print(\"    *   *\")\n",
        "\n"
      ],
      "metadata": {
        "colab": {
          "base_uri": "https://localhost:8080/"
        },
        "id": "CvvGRanPSn-f",
        "outputId": "1365c862-bbd1-4bbd-d6c5-59cabb79aa67"
      },
      "execution_count": null,
      "outputs": [
        {
          "output_type": "stream",
          "name": "stdout",
          "text": [
            "          \n",
            "         *  \n",
            "       *   *  \n",
            "     *   *   *  \n",
            "   *   *   *   *  \n",
            "       *   * \n",
            "       *   * \n",
            "       *   * \n",
            "       *   * \n",
            "       *   * \n",
            "       *   * \n",
            "       *   * \n",
            "       *   * \n"
          ]
        }
      ]
    },
    {
      "cell_type": "code",
      "source": [
        "for i in range (6):\n",
        " for j in range(7-i):\n",
        "  print(\" \",end=\" \")\n",
        " for x in range(i):\n",
        "  print(\" * \",end=\" \")\n",
        " print()\n",
        "\n",
        "for i in range (7):\n",
        " for j in range(7-i):\n",
        "  print(\" \",end=\" \")\n",
        " for x in range(i):\n",
        "  print(\" * \",end=\" \")\n",
        " print()\n",
        "\n",
        "for i in range(7):\n",
        " for j in range(7-i):\n",
        "  print (\" \",end=\" \")\n",
        " for x in range(i):\n",
        "  print(\" * \",end=\" \")\n",
        " print()\n",
        "for i in range(4):\n",
        " for j in range(2):\n",
        "  print (\"\",end=\" \")\n",
        " print(\"         *   *      \")"
      ],
      "metadata": {
        "id": "fK1JDntNTdiD",
        "colab": {
          "base_uri": "https://localhost:8080/"
        },
        "outputId": "1113e7be-3f61-4f88-d5e0-6fe2f6862225"
      },
      "execution_count": null,
      "outputs": [
        {
          "output_type": "stream",
          "name": "stdout",
          "text": [
            "              \n",
            "             *  \n",
            "           *   *  \n",
            "         *   *   *  \n",
            "       *   *   *   *  \n",
            "     *   *   *   *   *  \n",
            "              \n",
            "             *  \n",
            "           *   *  \n",
            "         *   *   *  \n",
            "       *   *   *   *  \n",
            "     *   *   *   *   *  \n",
            "   *   *   *   *   *   *  \n",
            "              \n",
            "             *  \n",
            "           *   *  \n",
            "         *   *   *  \n",
            "       *   *   *   *  \n",
            "     *   *   *   *   *  \n",
            "   *   *   *   *   *   *  \n",
            "           *   *      \n",
            "           *   *      \n",
            "           *   *      \n",
            "           *   *      \n"
          ]
        }
      ]
    },
    {
      "cell_type": "code",
      "source": [
        "for i in range(7):\n",
        "  for j in range(i):\n",
        "   print(\" \",end=\" \")\n",
        "  for x in range(8):\n",
        "   print(\" * \",end=\" \")\n",
        "  print()\n"
      ],
      "metadata": {
        "colab": {
          "base_uri": "https://localhost:8080/"
        },
        "id": "YLpHVmazcq0N",
        "outputId": "30a76993-35bc-4ad3-a980-2be2f2c0a9f3"
      },
      "execution_count": null,
      "outputs": [
        {
          "output_type": "stream",
          "name": "stdout",
          "text": [
            " *   *   *   *   *   *   *   *  \n",
            "   *   *   *   *   *   *   *   *  \n",
            "     *   *   *   *   *   *   *   *  \n",
            "       *   *   *   *   *   *   *   *  \n",
            "         *   *   *   *   *   *   *   *  \n",
            "           *   *   *   *   *   *   *   *  \n",
            "             *   *   *   *   *   *   *   *  \n"
          ]
        }
      ]
    },
    {
      "cell_type": "code",
      "source": [
        "for i in range(8):\n",
        "  for j in range(8):\n",
        "    if(i==0 or j==0 or j==7 or i==7):\n",
        "     print(\"*\",end=\" \")\n",
        "    else:\n",
        "      print(\" \",end=\" \")\n",
        "  print()"
      ],
      "metadata": {
        "colab": {
          "base_uri": "https://localhost:8080/"
        },
        "id": "Arubyl7cf-sk",
        "outputId": "179b0262-6407-4bd1-a4d2-0b6e7fd14f6f"
      },
      "execution_count": null,
      "outputs": [
        {
          "output_type": "stream",
          "name": "stdout",
          "text": [
            "* * * * * * * * \n",
            "*             * \n",
            "*             * \n",
            "*             * \n",
            "*             * \n",
            "*             * \n",
            "*             * \n",
            "* * * * * * * * \n"
          ]
        }
      ]
    },
    {
      "cell_type": "code",
      "source": [
        "for i in range(9):\n",
        "  for j in range(9):\n",
        "    if(i==j or i+j==8):\n",
        "     print(\"*\",end=\" \")\n",
        "    else:\n",
        "      print(\" \",end=\" \")\n",
        "  print()"
      ],
      "metadata": {
        "colab": {
          "base_uri": "https://localhost:8080/"
        },
        "id": "Aq3xTgb2hIVk",
        "outputId": "9497b651-ac18-4855-ae54-17193220b0ba"
      },
      "execution_count": null,
      "outputs": [
        {
          "output_type": "stream",
          "name": "stdout",
          "text": [
            "*               * \n",
            "  *           *   \n",
            "    *       *     \n",
            "      *   *       \n",
            "        *         \n",
            "      *   *       \n",
            "    *       *     \n",
            "  *           *   \n",
            "*               * \n"
          ]
        }
      ]
    },
    {
      "cell_type": "code",
      "source": [
        "for i in range(10):\n",
        "  for j in range(10):\n",
        "     if(i==0 or j==0 or i==9 or j==9 or i==j or i+j==9):\n",
        "      print(\"*\",end=\" \")\n",
        "     else:\n",
        "      print(\" \",end=\" \")\n",
        "  print()"
      ],
      "metadata": {
        "colab": {
          "base_uri": "https://localhost:8080/"
        },
        "id": "0v3d3tbMif7N",
        "outputId": "cea1822d-8616-40ef-891f-c0513975e193"
      },
      "execution_count": null,
      "outputs": [
        {
          "output_type": "stream",
          "name": "stdout",
          "text": [
            "* * * * * * * * * * \n",
            "* *             * * \n",
            "*   *         *   * \n",
            "*     *     *     * \n",
            "*       * *       * \n",
            "*       * *       * \n",
            "*     *     *     * \n",
            "*   *         *   * \n",
            "* *             * * \n",
            "* * * * * * * * * * \n"
          ]
        }
      ]
    },
    {
      "cell_type": "code",
      "source": [
        "for i in range(7):\n",
        " for j in range(i):\n",
        "   print(\" \",end=\" \")\n",
        " for x in range(7-i):\n",
        "  print(\"*\",end=\" \")\n",
        " print()\n",
        "\n",
        "for i in range(8):\n",
        "  for j in range(7-i):\n",
        "    print(\" \",end=\" \")\n",
        "  for x in range(i):\n",
        "   print(\"*\",end=\" \")\n",
        "  print()"
      ],
      "metadata": {
        "colab": {
          "base_uri": "https://localhost:8080/"
        },
        "id": "OOq5-mDAkA-f",
        "outputId": "01b2bc84-32af-4ddc-c264-5d1126eda353"
      },
      "execution_count": null,
      "outputs": [
        {
          "output_type": "stream",
          "name": "stdout",
          "text": [
            "* * * * * * * \n",
            "  * * * * * * \n",
            "    * * * * * \n",
            "      * * * * \n",
            "        * * * \n",
            "          * * \n",
            "            * \n",
            "              \n",
            "            * \n",
            "          * * \n",
            "        * * * \n",
            "      * * * * \n",
            "    * * * * * \n",
            "  * * * * * * \n",
            "* * * * * * * \n"
          ]
        }
      ]
    },
    {
      "cell_type": "code",
      "source": [
        "for i in range(7):\n",
        "  for j in range(7-i):\n",
        "    print(\"*\",end=\" \")\n",
        "  for x in range(i):\n",
        "    print(\" \",end=\" \")\n",
        "  print()\n",
        "\n",
        "for i in range(8):\n",
        " for j in range(i):\n",
        "   print(\"*\",end=\" \")\n",
        " for x in range(7-i):\n",
        "  print(\" \",end=\" \")\n",
        " print()\n",
        "\n"
      ],
      "metadata": {
        "colab": {
          "base_uri": "https://localhost:8080/"
        },
        "id": "zzDmiFLP9mW9",
        "outputId": "c172b3e5-c01b-45c2-b362-6764e0fdc131"
      },
      "execution_count": null,
      "outputs": [
        {
          "output_type": "stream",
          "name": "stdout",
          "text": [
            "* * * * * * * \n",
            "* * * * * *   \n",
            "* * * * *     \n",
            "* * * *       \n",
            "* * *         \n",
            "* *           \n",
            "*             \n",
            "              \n",
            "*             \n",
            "* *           \n",
            "* * *         \n",
            "* * * *       \n",
            "* * * * *     \n",
            "* * * * * *   \n",
            "* * * * * * * \n"
          ]
        }
      ]
    },
    {
      "cell_type": "code",
      "source": [
        "for i in range(7):\n",
        "  for j in range(7-i):\n",
        "    print(\"*\",end=\" \")\n",
        "  for x in range(2*i):\n",
        "   print(\" \",end=\" \")\n",
        "  for I in range(7-i):\n",
        "    print(\"*\",end=\" \")\n",
        "  print()\n",
        "\n",
        "for i in range(7):\n",
        "  for j in range(i+1):\n",
        "    print(\"*\",end=\" \")\n",
        "  for x in range(2*(6-i)):\n",
        "    print(\" \",end=\" \")\n",
        "  for I in range(i+1):\n",
        "    print(\"*\",end=\" \")\n",
        "  print()"
      ],
      "metadata": {
        "colab": {
          "base_uri": "https://localhost:8080/"
        },
        "id": "SnjAdDNmAxwj",
        "outputId": "7e5906b2-95f1-4ed0-b307-a5dfa26a17e8"
      },
      "execution_count": null,
      "outputs": [
        {
          "output_type": "stream",
          "name": "stdout",
          "text": [
            "* * * * * * * * * * * * * * \n",
            "* * * * * *     * * * * * * \n",
            "* * * * *         * * * * * \n",
            "* * * *             * * * * \n",
            "* * *                 * * * \n",
            "* *                     * * \n",
            "*                         * \n",
            "*                         * \n",
            "* *                     * * \n",
            "* * *                 * * * \n",
            "* * * *             * * * * \n",
            "* * * * *         * * * * * \n",
            "* * * * * *     * * * * * * \n",
            "* * * * * * * * * * * * * * \n"
          ]
        }
      ]
    },
    {
      "cell_type": "code",
      "source": [
        "for i in range(8):\n",
        "  for j in range(i):\n",
        "   if(i==0 or j==0 or j==7 or i==7 or j==(i-1)):\n",
        "    print(\"*\",end=\" \")\n",
        "   else:\n",
        "    print(\" \",end=\" \")\n",
        "  print()"
      ],
      "metadata": {
        "id": "H774rRQThKlC",
        "colab": {
          "base_uri": "https://localhost:8080/"
        },
        "outputId": "d7487096-180e-48de-d01f-9898ab688f36"
      },
      "execution_count": null,
      "outputs": [
        {
          "output_type": "stream",
          "name": "stdout",
          "text": [
            "\n",
            "* \n",
            "* * \n",
            "*   * \n",
            "*     * \n",
            "*       * \n",
            "*         * \n",
            "* * * * * * * \n"
          ]
        }
      ]
    }
  ],
  "metadata": {
    "colab": {
      "provenance": [],
      "authorship_tag": "ABX9TyMs2T61RMZATsBFHxS0/9mi",
      "include_colab_link": true
    },
    "kernelspec": {
      "display_name": "Python 3",
      "name": "python3"
    },
    "language_info": {
      "name": "python"
    }
  },
  "nbformat": 4,
  "nbformat_minor": 0
}